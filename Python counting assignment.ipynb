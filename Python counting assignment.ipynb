{
 "cells": [
  {
   "cell_type": "markdown",
   "metadata": {},
   "source": [
    "                             PYTHON COUNTING ASSIGNMENT"
   ]
  },
  {
   "cell_type": "markdown",
   "metadata": {},
   "source": [
    "Download dataset using bash command \n",
    "open data and read the data"
   ]
  },
  {
   "cell_type": "code",
   "execution_count": 1,
   "metadata": {
    "collapsed": false
   },
   "outputs": [
    {
     "name": "stdout",
     "output_type": "stream",
     "text": [
      "  % Total    % Received % Xferd  Average Speed   Time    Time     Time  Current\n",
      "                                 Dload  Upload   Total   Spent    Left  Speed\n",
      "100 21190  100 21190    0     0  42432      0 --:--:-- --:--:-- --:--:--  459k\n"
     ]
    }
   ],
   "source": [
    "!curl -O http://rachelss.github.io/Bioinformatics/sample.fastq"
   ]
  },
  {
   "cell_type": "code",
   "execution_count": 2,
   "metadata": {
    "collapsed": true
   },
   "outputs": [],
   "source": [
    "filename = 'sample.fastq'\n",
    "f = open(filename,'r')\n",
    "fastq = f.readlines()"
   ]
  },
  {
   "cell_type": "markdown",
   "metadata": {},
   "source": [
    "Count the number of each base across all sequences(fastq)\n",
    "\n",
    "function\n"
   ]
  },
  {
   "cell_type": "code",
   "execution_count": 3,
   "metadata": {
    "collapsed": false
   },
   "outputs": [
    {
     "name": "stdout",
     "output_type": "stream",
     "text": [
      "{'A': 2517, 'T': 2444, 'C': 2550, 'G': 2489}\n"
     ]
    }
   ],
   "source": [
    "counter={'A':0,'C':0,'G':0,'T':0} # dictionary containing the strings of each base and count\n",
    "for line_number,line in enumerate(fastq): # consider each line and line number in sequence\n",
    "    if line_number%4==1: # this is to obtain the sequences containing only sequence of bases\n",
    "        line=line.rstrip() # strip each line from each new line\n",
    "        for base in line: # Access each base in the line\n",
    "            counter[base]+=1 # get the value of each base in the line and add 1\n",
    "            \n",
    "print(counter)# print the dictionary containing total counts of each base in the sequence"
   ]
  },
  {
   "cell_type": "markdown",
   "metadata": {},
   "source": [
    "Taking a subset of the fastq file, fastq[0:30] and obtain the sequence"
   ]
  },
  {
   "cell_type": "code",
   "execution_count": 5,
   "metadata": {
    "collapsed": false
   },
   "outputs": [
    {
     "name": "stdout",
     "output_type": "stream",
     "text": [
      "TTCACCGTGATACCGCTTGATCTACGACCGTGCATGAAGACCGCCAATGCTAAGCTCAACGAGGTCCGACCGACGAAGAACTCGTGGACTAAAAATAGCT\n",
      "TTCCTTGGATGAAAAAAAAGGAGCGAACGGCCTTTTAGCGAGTAACCGGGTCGCTCGGTCAGTTGAGGCAAACTTCATCACTCGATAGGGGTGTCCGAAT\n",
      "GTCACTGCCCATGGGAAGACCACTGAAGTCCTCACACGGCCAGGCCCGTGTGGAATTCCGAATCTCAGAAGGATGATGTCCGGTTCGTGGTAGTTTGTAG\n",
      "TTTTCTCTCGCTAGAAAAGTGGTCTAGTCTCAACTCGAAATGGTACGTTTGTTTGTTCCGCCGAGCTTGCGCAGTCTCCTCTAGGTGGCTATGGCGGGTC\n",
      "ATTAATGGTAACCAATTAGAGACAAGCCCCTTACATTGGCACGGGTACGCGCGTATACTAGCGTTAGCGGACCCGTTAGACCACTTCGATATTTGATTCA\n",
      "CTCTAACATGGATCTGGTTGTAGTGGTACATTGGCGGCGCAACCAAGCTCAAGGTCTCTGAGCACCACTACTTCTTCTAAAGGTGGGACTGTCAATTCAC\n",
      "AGGTGGTCACTCGTGATAATTGGTACCCTGTTCTTCCCGCTGCAGTCATATAAGTGAGAACCGATGGCGTAACTAATTTGCTATCGGAGTCTACAATTGG\n",
      "GCTTACCTCCCAAGTGTGTTAATACTCCTATTACCACTAAACGCTTAAAGATGATTCGTCCGAATCTACAGATCCGCGGTCATTACACAGACAATTGCTT\n"
     ]
    }
   ],
   "source": [
    "for line_number,line in enumerate(fastq[0:30]):\n",
    "        if line_number%4==1:\n",
    "            line=line.rstrip()\n",
    "            print(line)"
   ]
  },
  {
   "cell_type": "markdown",
   "metadata": {},
   "source": []
  },
  {
   "cell_type": "markdown",
   "metadata": {},
   "source": [
    "Count the number of each pair of bases (described as kmers of size 2).\n",
    "\n",
    "function"
   ]
  },
  {
   "cell_type": "code",
   "execution_count": 8,
   "metadata": {
    "collapsed": true
   },
   "outputs": [],
   "source": [
    "def count_2kmers():\n",
    "    counter ={'AA':0, 'GT':0, 'TA':0, 'CA':0}# dictionary containing the strings of kmers of two and count\n",
    "    for line_number,line in enumerate(fastq[0:30]):\n",
    "        if line_number%4==1:\n",
    "            line=line.rstrip()\n",
    "            for base_number, base in enumerate(line): #consider each base number and base position in line\n",
    "                if base_number != (len(line)-1):#consider each base number in the length of the line\n",
    "                    kmer = line[base_number]+line[base_number+1]# find the kmer pairs\n",
    "                    if kmer in counter: # if kmer is in dictionary\n",
    "                        counter[kmer]+=1 # provide the count of each kmer in the dictionary\n",
    "            \n",
    "    print(counter)"
   ]
  },
  {
   "cell_type": "code",
   "execution_count": 10,
   "metadata": {
    "collapsed": false
   },
   "outputs": [
    {
     "name": "stdout",
     "output_type": "stream",
     "text": [
      "{'TA': 48, 'CA': 43, 'AA': 58, 'GT': 56}\n"
     ]
    }
   ],
   "source": [
    "count_2kmers()"
   ]
  },
  {
   "cell_type": "code",
   "execution_count": null,
   "metadata": {
    "collapsed": true
   },
   "outputs": [],
   "source": []
  },
  {
   "cell_type": "markdown",
   "metadata": {},
   "source": [
    "Count the number of each pair of bases, without assuming you know in advance the possible pairs \n",
    "\n",
    "function"
   ]
  },
  {
   "cell_type": "code",
   "execution_count": 11,
   "metadata": {
    "collapsed": true
   },
   "outputs": [],
   "source": [
    "def counting_2kmers_unknown(string, k):# This is a function that takes a string and a value of k (integer)\n",
    "    counters = {} # Starting with an empty dictionary\n",
    "    n = len(string) #calculate length of the string\n",
    "    \n",
    "    for i in range(0, n-k+1):#Calculate how many kmers of length k are in the string  and find kmer positions\n",
    "            kmer = string[i:i+k] # obtain each pair of kmer from the string\n",
    "            if kmer not in counters: # check if kmer is in dictionary\n",
    "                counters[kmer] = 0 \n",
    "            counters[kmer]+=1 # Go to the dictionary, to the kmer and increase by 1\n",
    "            \n",
    "    print(counters)"
   ]
  },
  {
   "cell_type": "code",
   "execution_count": 12,
   "metadata": {
    "collapsed": false
   },
   "outputs": [
    {
     "name": "stdout",
     "output_type": "stream",
     "text": [
      "{'AC': 10, 'GC': 6, 'TG': 6, 'AT': 5, 'AG': 5, 'CT': 7, 'GT': 4, 'GA': 11, 'CC': 7, 'CG': 10, 'CA': 4, 'TA': 5, 'GG': 2, 'AA': 10, 'TC': 5, 'TT': 2}\n"
     ]
    }
   ],
   "source": [
    "counting_2kmers_unknown(\"TTCACCGTGATACCGCTTGATCTACGACCGTGCATGAAGACCGCCAATGCTAAGCTCAACGAGGTCCGACCGACGAAGAACTCGTGGACTAAAAATAGCT\", 2)"
   ]
  },
  {
   "cell_type": "code",
   "execution_count": null,
   "metadata": {
    "collapsed": true
   },
   "outputs": [],
   "source": []
  },
  {
   "cell_type": "markdown",
   "metadata": {},
   "source": [
    "Alter the counting function to allow for counting kmers of any size\n"
   ]
  },
  {
   "cell_type": "code",
   "execution_count": 14,
   "metadata": {
    "collapsed": true
   },
   "outputs": [],
   "source": [
    "def counting_kmers(string, k):\n",
    "    counters = {}\n",
    "    n = len(string)\n",
    "    \n",
    "    for i in range(0, n-k+1):\n",
    "            kmer = string[i:i+k]\n",
    "            if kmer not in counters:\n",
    "                counters[kmer] = 0\n",
    "            counters[kmer]+=1\n",
    "            \n",
    "    print(counters)"
   ]
  },
  {
   "cell_type": "code",
   "execution_count": 15,
   "metadata": {
    "collapsed": false
   },
   "outputs": [
    {
     "name": "stdout",
     "output_type": "stream",
     "text": [
      "{'ATA': 2, 'AAA': 3, 'GAG': 1, 'AGC': 2, 'TAC': 2, 'ACG': 3, 'AAG': 3, 'TGG': 1, 'TAG': 1, 'CTC': 2, 'TTC': 1, 'TTG': 1, 'GAA': 3, 'TGA': 3, 'ATG': 2, 'GGA': 1, 'GGT': 1, 'GCC': 1, 'AGG': 1, 'TAA': 2, 'CTT': 1, 'CGA': 5, 'ACC': 5, 'CGT': 3, 'ATC': 1, 'TCT': 1, 'GAC': 5, 'CAC': 1, 'GTC': 1, 'CCA': 1, 'CAA': 2, 'CCG': 6, 'TGC': 2, 'CTA': 3, 'CAT': 1, 'GCA': 1, 'CGC': 2, 'GTG': 3, 'AAT': 2, 'TCC': 1, 'TCA': 2, 'GAT': 2, 'ACT': 2, 'GCT': 4, 'AGA': 2, 'AAC': 2, 'TCG': 1}\n"
     ]
    }
   ],
   "source": [
    "counting_kmers(\"TTCACCGTGATACCGCTTGATCTACGACCGTGCATGAAGACCGCCAATGCTAAGCTCAACGAGGTCCGACCGACGAAGAACTCGTGGACTAAAAATAGCT\", 3)"
   ]
  },
  {
   "cell_type": "code",
   "execution_count": 18,
   "metadata": {
    "collapsed": false
   },
   "outputs": [
    {
     "name": "stdout",
     "output_type": "stream",
     "text": [
      "{'CACA': 3, 'TCGT': 4, 'ATGA': 4, 'AGGG': 1, 'TGGC': 5, 'CCAA': 4, 'TGAG': 3, 'TTGA': 3, 'AATG': 4, 'CACC': 2, 'TGGT': 8, 'GATA': 4, 'AATC': 2, 'CAGA': 3, 'GACC': 6, 'GTTC': 3, 'TACT': 3, 'TGCA': 2, 'CCCT': 2, 'AGTT': 3, 'TTCC': 4, 'AAGG': 4, 'CTTC': 5, 'TGAT': 6, 'GCCG': 1, 'ACTC': 6, 'CATA': 1, 'GCTC': 3, 'CTCG': 6, 'CTTA': 3, 'GAGT': 2, 'ATTG': 5, 'GTAT': 1, 'GGAA': 2, 'AACG': 3, 'TCGC': 2, 'TCTG': 2, 'AAGA': 4, 'GTGT': 4, 'TATG': 1, 'AGTG': 4, 'GCCT': 1, 'TTGC': 3, 'CGGG': 3, 'CAAA': 1, 'CAAT': 5, 'GCGC': 3, 'GCTG': 1, 'TAAT': 4, 'ATCA': 1, 'TGCG': 1, 'CGTA': 2, 'AGAC': 5, 'GTGG': 8, 'CTAC': 4, 'ATAG': 2, 'CATT': 4, 'TACG': 3, 'TTAA': 3, 'AGCG': 4, 'TGAA': 3, 'CTTG': 3, 'CGGT': 3, 'GCAG': 2, 'CCGA': 7, 'CCCG': 3, 'CCAG': 1, 'AATA': 2, 'TGGA': 4, 'GTAG': 3, 'GTTG': 2, 'CGAT': 3, 'GCAT': 1, 'AAGC': 3, 'ACGG': 3, 'CGGA': 2, 'CCAT': 1, 'GCTT': 6, 'TAAA': 4, 'CTAA': 6, 'ACGA': 3, 'TCGA': 3, 'GCGT': 3, 'CCCA': 2, 'TCTC': 6, 'CTTT': 2, 'CGTG': 6, 'GAGC': 3, 'TGTC': 4, 'CACT': 8, 'AAAA': 8, 'AAAG': 4, 'CATC': 1, 'AGAA': 4, 'ATTT': 2, 'AAAC': 2, 'GACG': 1, 'GCCC': 3, 'AGTC': 5, 'CGTC': 1, 'GCTA': 4, 'GCGA': 2, 'GTCG': 1, 'TCAA': 4, 'ACCA': 6, 'GGGA': 2, 'ATCC': 1, 'TCTA': 7, 'GTAA': 3, 'GTCA': 7, 'TTGG': 5, 'TAGG': 2, 'CTGC': 2, 'ATAT': 2, 'ATTC': 4, 'CTGA': 2, 'GGCG': 4, 'ATAC': 3, 'ATGT': 2, 'TATT': 2, 'GAAT': 4, 'CCGT': 4, 'CGTT': 3, 'TACA': 5, 'GAAA': 3, 'GTGA': 3, 'CTGG': 1, 'GAGA': 2, 'TTTA': 1, 'ACAT': 3, 'TAGA': 3, 'GGGG': 1, 'TGGG': 3, 'TGCT': 3, 'ACCT': 1, 'GGAT': 3, 'TAGT': 4, 'ACTG': 3, 'GTTA': 3, 'TATC': 1, 'CGAG': 3, 'CGCG': 3, 'TGTT': 4, 'GAGG': 2, 'ACAC': 2, 'AGCC': 1, 'ACAG': 3, 'CGCA': 2, 'CCTG': 1, 'ATCG': 1, 'ATGG': 6, 'CAAG': 4, 'TCCT': 4, 'GAAC': 3, 'GATT': 2, 'TGTA': 2, 'TTCT': 4, 'TACC': 4, 'ATAA': 2, 'AGGA': 2, 'AGCT': 4, 'AACA': 1, 'TTCA': 4, 'CTCT': 4, 'GTCC': 5, 'CTGT': 2, 'GGAC': 3, 'ACTA': 5, 'TTTG': 5, 'GATG': 5, 'ACCC': 2, 'GGCA': 2, 'CAGG': 2, 'CCCC': 1, 'ATTA': 4, 'GGCC': 3, 'GGAG': 2, 'TCGG': 2, 'AAGT': 4, 'GACA': 2, 'CGGC': 3, 'TCAG': 2, 'TTTC': 2, 'CTAT': 3, 'AACT': 4, 'GCGG': 4, 'TAGC': 4, 'TCCC': 2, 'GGTG': 4, 'GGTT': 2, 'TAAC': 4, 'CATG': 3, 'CGAC': 3, 'GTTT': 4, 'ATCT': 4, 'GTGC': 1, 'GCAC': 2, 'GGTC': 8, 'AGAT': 2, 'GTCT': 5, 'TTTT': 2, 'TGTG': 2, 'CTAG': 4, 'CCTA': 1, 'TTAG': 4, 'CGCC': 2, 'TAAG': 2, 'AGAG': 1, 'CTCC': 3, 'AGGC': 2, 'TTGT': 4, 'AATT': 7, 'TCAC': 7, 'GATC': 3, 'AGCA': 1, 'TATA': 2, 'GCCA': 2, 'GAAG': 5, 'CCAC': 4, 'CACG': 2, 'AACC': 4, 'ACCG': 7, 'ACGC': 2, 'GGGC': 1, 'ACGT': 1, 'GCAA': 2, 'CCTT': 3, 'TTCG': 3, 'GGCT': 2, 'CAAC': 3, 'ACTT': 3, 'CCTC': 3, 'AGTA': 1, 'AAAT': 2, 'CCGC': 5, 'TCTT': 2, 'GTAC': 4, 'TGCC': 1, 'TCAT': 4, 'GACT': 2, 'CCGG': 2, 'GGTA': 6, 'CGCT': 5, 'AGGT': 5, 'TTAC': 4, 'CAGT': 3, 'TCCG': 7, 'CTCA': 5, 'CGAA': 6, 'ATGC': 1, 'GGGT': 4, 'ACAA': 3}\n"
     ]
    }
   ],
   "source": [
    "counting_kmers(\"TTCACCGTGATACCGCTTGATCTACGACCGTGCATGAAGACCGCCAATGCTAAGCTCAACGAGGTCCGACCGACGAAGAACTCGTGGACTAAAAATAGCT\"\n",
    "\"TTCCTTGGATGAAAAAAAAGGAGCGAACGGCCTTTTAGCGAGTAACCGGGTCGCTCGGTCAGTTGAGGCAAACTTCATCACTCGATAGGGGTGTCCGAAT\"\n",
    "\"GTCACTGCCCATGGGAAGACCACTGAAGTCCTCACACGGCCAGGCCCGTGTGGAATTCCGAATCTCAGAAGGATGATGTCCGGTTCGTGGTAGTTTGTAG\"\n",
    "\"TTTTCTCTCGCTAGAAAAGTGGTCTAGTCTCAACTCGAAATGGTACGTTTGTTTGTTCCGCCGAGCTTGCGCAGTCTCCTCTAGGTGGCTATGGCGGGTC\"\n",
    "\"ATTAATGGTAACCAATTAGAGACAAGCCCCTTACATTGGCACGGGTACGCGCGTATACTAGCGTTAGCGGACCCGTTAGACCACTTCGATATTTGATTCA\"\n",
    "\"CTCTAACATGGATCTGGTTGTAGTGGTACATTGGCGGCGCAACCAAGCTCAAGGTCTCTGAGCACCACTACTTCTTCTAAAGGTGGGACTGTCAATTCAC\"\n",
    "\"AGGTGGTCACTCGTGATAATTGGTACCCTGTTCTTCCCGCTGCAGTCATATAAGTGAGAACCGATGGCGTAACTAATTTGCTATCGGAGTCTACAATTGG\"\n",
    "\"GCTTACCTCCCAAGTGTGTTAATACTCCTATTACCACTAAACGCTTAAAGATGATTCGTCCGAATCTACAGATCCGCGGTCATTACACAGACAATTGCTT\", 4)"
   ]
  },
  {
   "cell_type": "code",
   "execution_count": null,
   "metadata": {
    "collapsed": true
   },
   "outputs": [],
   "source": []
  }
 ],
 "metadata": {
  "anaconda-cloud": {},
  "kernelspec": {
   "display_name": "Python [default]",
   "language": "python",
   "name": "python3"
  },
  "language_info": {
   "codemirror_mode": {
    "name": "ipython",
    "version": 3
   },
   "file_extension": ".py",
   "mimetype": "text/x-python",
   "name": "python",
   "nbconvert_exporter": "python",
   "pygments_lexer": "ipython3",
   "version": "3.5.2"
  }
 },
 "nbformat": 4,
 "nbformat_minor": 1
}
